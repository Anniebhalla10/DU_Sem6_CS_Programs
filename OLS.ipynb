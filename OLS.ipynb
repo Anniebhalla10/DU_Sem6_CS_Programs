{
  "nbformat": 4,
  "nbformat_minor": 0,
  "metadata": {
    "colab": {
      "name": "OLS",
      "provenance": [],
      "collapsed_sections": []
    },
    "kernelspec": {
      "name": "python3",
      "display_name": "Python 3"
    },
    "language_info": {
      "name": "python"
    }
  },
  "cells": [
    {
      "cell_type": "markdown",
      "source": [
        "LEAST SQUARE ESTIMATION METHOD (Simple linear regression model)\n",
        "\n",
        "---\n",
        "Annie Bhalla\n",
        "\n",
        "---\n",
        "\n",
        "\n",
        "\n",
        "\n"
      ],
      "metadata": {
        "id": "wlVARPgX2y28"
      }
    },
    {
      "cell_type": "markdown",
      "source": [
        "## Importing Modules"
      ],
      "metadata": {
        "id": "dKBoBC9X4Xzg"
      }
    },
    {
      "cell_type": "code",
      "source": [
        "from google.colab import drive\n",
        "import pandas as pd\n",
        "import numpy as np\n",
        "from matplotlib import pyplot as plt\n",
        "from sklearn.model_selection import train_test_split\n",
        "from sklearn import metrics"
      ],
      "metadata": {
        "id": "T5CLyzhZ4I-7"
      },
      "execution_count": null,
      "outputs": []
    },
    {
      "cell_type": "markdown",
      "source": [
        "### Importing Dataset"
      ],
      "metadata": {
        "id": "dF9LlxGW4fXc"
      }
    },
    {
      "cell_type": "code",
      "source": [
        "data = pd.read_csv('/content/drive/MyDrive/Colab Notebooks/datasets/Salary_Data.csv')\n",
        "data.head()"
      ],
      "metadata": {
        "colab": {
          "base_uri": "https://localhost:8080/",
          "height": 206
        },
        "id": "8wyn6WnR4_9T",
        "outputId": "762833fe-0515-4c9e-ccf0-e7424f8a4968"
      },
      "execution_count": null,
      "outputs": [
        {
          "output_type": "execute_result",
          "data": {
            "text/html": [
              "\n",
              "  <div id=\"df-a67cf82d-6ba1-4a26-b176-139c41f27bbd\">\n",
              "    <div class=\"colab-df-container\">\n",
              "      <div>\n",
              "<style scoped>\n",
              "    .dataframe tbody tr th:only-of-type {\n",
              "        vertical-align: middle;\n",
              "    }\n",
              "\n",
              "    .dataframe tbody tr th {\n",
              "        vertical-align: top;\n",
              "    }\n",
              "\n",
              "    .dataframe thead th {\n",
              "        text-align: right;\n",
              "    }\n",
              "</style>\n",
              "<table border=\"1\" class=\"dataframe\">\n",
              "  <thead>\n",
              "    <tr style=\"text-align: right;\">\n",
              "      <th></th>\n",
              "      <th>YearsExperience</th>\n",
              "      <th>Salary</th>\n",
              "    </tr>\n",
              "  </thead>\n",
              "  <tbody>\n",
              "    <tr>\n",
              "      <th>0</th>\n",
              "      <td>1.1</td>\n",
              "      <td>39343.0</td>\n",
              "    </tr>\n",
              "    <tr>\n",
              "      <th>1</th>\n",
              "      <td>1.3</td>\n",
              "      <td>46205.0</td>\n",
              "    </tr>\n",
              "    <tr>\n",
              "      <th>2</th>\n",
              "      <td>1.5</td>\n",
              "      <td>37731.0</td>\n",
              "    </tr>\n",
              "    <tr>\n",
              "      <th>3</th>\n",
              "      <td>2.0</td>\n",
              "      <td>43525.0</td>\n",
              "    </tr>\n",
              "    <tr>\n",
              "      <th>4</th>\n",
              "      <td>2.2</td>\n",
              "      <td>39891.0</td>\n",
              "    </tr>\n",
              "  </tbody>\n",
              "</table>\n",
              "</div>\n",
              "      <button class=\"colab-df-convert\" onclick=\"convertToInteractive('df-a67cf82d-6ba1-4a26-b176-139c41f27bbd')\"\n",
              "              title=\"Convert this dataframe to an interactive table.\"\n",
              "              style=\"display:none;\">\n",
              "        \n",
              "  <svg xmlns=\"http://www.w3.org/2000/svg\" height=\"24px\"viewBox=\"0 0 24 24\"\n",
              "       width=\"24px\">\n",
              "    <path d=\"M0 0h24v24H0V0z\" fill=\"none\"/>\n",
              "    <path d=\"M18.56 5.44l.94 2.06.94-2.06 2.06-.94-2.06-.94-.94-2.06-.94 2.06-2.06.94zm-11 1L8.5 8.5l.94-2.06 2.06-.94-2.06-.94L8.5 2.5l-.94 2.06-2.06.94zm10 10l.94 2.06.94-2.06 2.06-.94-2.06-.94-.94-2.06-.94 2.06-2.06.94z\"/><path d=\"M17.41 7.96l-1.37-1.37c-.4-.4-.92-.59-1.43-.59-.52 0-1.04.2-1.43.59L10.3 9.45l-7.72 7.72c-.78.78-.78 2.05 0 2.83L4 21.41c.39.39.9.59 1.41.59.51 0 1.02-.2 1.41-.59l7.78-7.78 2.81-2.81c.8-.78.8-2.07 0-2.86zM5.41 20L4 18.59l7.72-7.72 1.47 1.35L5.41 20z\"/>\n",
              "  </svg>\n",
              "      </button>\n",
              "      \n",
              "  <style>\n",
              "    .colab-df-container {\n",
              "      display:flex;\n",
              "      flex-wrap:wrap;\n",
              "      gap: 12px;\n",
              "    }\n",
              "\n",
              "    .colab-df-convert {\n",
              "      background-color: #E8F0FE;\n",
              "      border: none;\n",
              "      border-radius: 50%;\n",
              "      cursor: pointer;\n",
              "      display: none;\n",
              "      fill: #1967D2;\n",
              "      height: 32px;\n",
              "      padding: 0 0 0 0;\n",
              "      width: 32px;\n",
              "    }\n",
              "\n",
              "    .colab-df-convert:hover {\n",
              "      background-color: #E2EBFA;\n",
              "      box-shadow: 0px 1px 2px rgba(60, 64, 67, 0.3), 0px 1px 3px 1px rgba(60, 64, 67, 0.15);\n",
              "      fill: #174EA6;\n",
              "    }\n",
              "\n",
              "    [theme=dark] .colab-df-convert {\n",
              "      background-color: #3B4455;\n",
              "      fill: #D2E3FC;\n",
              "    }\n",
              "\n",
              "    [theme=dark] .colab-df-convert:hover {\n",
              "      background-color: #434B5C;\n",
              "      box-shadow: 0px 1px 3px 1px rgba(0, 0, 0, 0.15);\n",
              "      filter: drop-shadow(0px 1px 2px rgba(0, 0, 0, 0.3));\n",
              "      fill: #FFFFFF;\n",
              "    }\n",
              "  </style>\n",
              "\n",
              "      <script>\n",
              "        const buttonEl =\n",
              "          document.querySelector('#df-a67cf82d-6ba1-4a26-b176-139c41f27bbd button.colab-df-convert');\n",
              "        buttonEl.style.display =\n",
              "          google.colab.kernel.accessAllowed ? 'block' : 'none';\n",
              "\n",
              "        async function convertToInteractive(key) {\n",
              "          const element = document.querySelector('#df-a67cf82d-6ba1-4a26-b176-139c41f27bbd');\n",
              "          const dataTable =\n",
              "            await google.colab.kernel.invokeFunction('convertToInteractive',\n",
              "                                                     [key], {});\n",
              "          if (!dataTable) return;\n",
              "\n",
              "          const docLinkHtml = 'Like what you see? Visit the ' +\n",
              "            '<a target=\"_blank\" href=https://colab.research.google.com/notebooks/data_table.ipynb>data table notebook</a>'\n",
              "            + ' to learn more about interactive tables.';\n",
              "          element.innerHTML = '';\n",
              "          dataTable['output_type'] = 'display_data';\n",
              "          await google.colab.output.renderOutput(dataTable, element);\n",
              "          const docLink = document.createElement('div');\n",
              "          docLink.innerHTML = docLinkHtml;\n",
              "          element.appendChild(docLink);\n",
              "        }\n",
              "      </script>\n",
              "    </div>\n",
              "  </div>\n",
              "  "
            ],
            "text/plain": [
              "   YearsExperience   Salary\n",
              "0              1.1  39343.0\n",
              "1              1.3  46205.0\n",
              "2              1.5  37731.0\n",
              "3              2.0  43525.0\n",
              "4              2.2  39891.0"
            ]
          },
          "metadata": {},
          "execution_count": 121
        }
      ]
    },
    {
      "cell_type": "code",
      "source": [
        "print(data.keys())"
      ],
      "metadata": {
        "colab": {
          "base_uri": "https://localhost:8080/"
        },
        "id": "gnTvgWA_5iW4",
        "outputId": "5944eb35-a6ac-4d49-dd34-0ac3b309f4e5"
      },
      "execution_count": null,
      "outputs": [
        {
          "output_type": "stream",
          "name": "stdout",
          "text": [
            "Index(['YearsExperience', 'Salary'], dtype='object')\n"
          ]
        }
      ]
    },
    {
      "cell_type": "markdown",
      "source": [
        "### Splitting into train and test datasets"
      ],
      "metadata": {
        "id": "rZurbwQ45nWJ"
      }
    },
    {
      "cell_type": "code",
      "source": [
        "x= data['YearsExperience']\n",
        "y= data['Salary']"
      ],
      "metadata": {
        "id": "Ot_SGtLN50UR"
      },
      "execution_count": null,
      "outputs": []
    },
    {
      "cell_type": "code",
      "source": [
        "x=x.values\n",
        "y=y.values"
      ],
      "metadata": {
        "id": "94zfU4PiQN3U"
      },
      "execution_count": null,
      "outputs": []
    },
    {
      "cell_type": "code",
      "source": [
        "x_train, x_test, y_train, y_test= train_test_split(x,y,test_size=0.3)"
      ],
      "metadata": {
        "id": "7i6U9Xap7pDr"
      },
      "execution_count": null,
      "outputs": []
    },
    {
      "cell_type": "markdown",
      "source": [
        "### Implementing OLS from scratch"
      ],
      "metadata": {
        "id": "z3WHTiI07tZ-"
      }
    },
    {
      "cell_type": "code",
      "source": [
        "class OLS:\n",
        "  def __init__(self, beta0=0, beta1=0):\n",
        "    self.beta0 = beta0\n",
        "    self.beta1= beta1\n",
        "\n",
        "  def train(self, x,y):\n",
        "    #calculating mean for x and y \n",
        "    x_mean = np.mean(x);\n",
        "    y_mean = np.mean(y);\n",
        "\n",
        "    numerator=0;\n",
        "    denominator=0;\n",
        "  #calculating \n",
        "    for i in range(len(x)):\n",
        "      numerator += (x[i]- x_mean)*(y[i]- y_mean);\n",
        "      denominator += (x[i]- x_mean)**2;\n",
        "\n",
        "    self.beta1= numerator/ denominator;\n",
        "    self.beta0= y_mean - (self.beta1*x_mean);\n",
        "    print(\"Beta1\" ,self.beta1)\n",
        "    print(\"Beta0\", self.beta0)\n",
        "\n",
        "\n",
        "  def predict(self, x, y):\n",
        "    # y_pred=[]\n",
        "    # for i in range(len(x)): \n",
        "    y_pred= (self.beta1 * x) + self.beta0\n",
        "    return y_pred\n",
        "\n",
        "  def error(self, y,y_pred):\n",
        "    error= (y-y_pred)*(y-y_pred)\n",
        "    return error;\n",
        "   "
      ],
      "metadata": {
        "id": "2icV1hvQ21h_"
      },
      "execution_count": null,
      "outputs": []
    },
    {
      "cell_type": "code",
      "source": [
        "#Fitting into OLS\n",
        "ols= OLS();\n",
        "ols.train(x_train, y_train)"
      ],
      "metadata": {
        "colab": {
          "base_uri": "https://localhost:8080/"
        },
        "id": "s1KXh_kFPH6n",
        "outputId": "f5bbebc4-3bbb-4e91-d2ed-debc9027bd3a"
      },
      "execution_count": null,
      "outputs": [
        {
          "output_type": "stream",
          "name": "stdout",
          "text": [
            "Beta1 9494.03529411765\n",
            "Beta0 25088.785882352924\n"
          ]
        }
      ]
    },
    {
      "cell_type": "code",
      "source": [
        "#Finding predicted values\n",
        "y_predicted=ols.predict(x_test, y_test)"
      ],
      "metadata": {
        "id": "Npn6PWcsQ9Lj"
      },
      "execution_count": null,
      "outputs": []
    },
    {
      "cell_type": "code",
      "source": [
        "y_predicted"
      ],
      "metadata": {
        "colab": {
          "base_uri": "https://localhost:8080/"
        },
        "id": "d-_57gaPSsb5",
        "outputId": "a8a6c1a9-a451-42db-f31a-28b4cf7fdd62"
      },
      "execution_count": null,
      "outputs": [
        {
          "output_type": "execute_result",
          "data": {
            "text/plain": [
              "array([116231.52470588,  82052.99764706,  89648.22588235,  64014.33058824,\n",
              "       115282.12117647,  60216.71647059,  52621.48823529,  55469.69882353,\n",
              "        55469.69882353])"
            ]
          },
          "metadata": {},
          "execution_count": 149
        }
      ]
    },
    {
      "cell_type": "code",
      "source": [
        "# Plotting best fit line \n",
        "plt.scatter(x, y, label=\"Scatter Plot for training data\")\n",
        "plt.plot(x_test, y_predicted, label=\"Line of Regression\", color='orange')\n",
        "plt.xlabel(\"YearsExperience\")\n",
        "plt.ylabel(\"Salary\")\n",
        "plt.legend()\n",
        "plt.show()\n"
      ],
      "metadata": {
        "colab": {
          "base_uri": "https://localhost:8080/",
          "height": 279
        },
        "id": "PFA-ZNmrPIww",
        "outputId": "55e211aa-b8c7-4808-8288-31c8264ed42a"
      },
      "execution_count": null,
      "outputs": [
        {
          "output_type": "display_data",
          "data": {
            "image/png": "[encoded data removed]",
            "text/plain": [
              "<Figure size 432x288 with 1 Axes>"
            ]
          },
          "metadata": {
            "needs_background": "light"
          }
        }
      ]
    },
    {
      "cell_type": "code",
      "source": [
        "#Calculating error\n",
        "error=ols.error(y_test, y_predicted)\n",
        "error"
      ],
      "metadata": {
        "colab": {
          "base_uri": "https://localhost:8080/"
        },
        "id": "71CvqG7GCose",
        "outputId": "16450001-f8f8-4a1f-9a9b-2ad65b4d1a2d"
      },
      "execution_count": null,
      "outputs": [
        {
          "output_type": "execute_result",
          "data": {
            "text/plain": [
              "array([1.29349900e+07, 1.41300825e+08, 4.36715586e+06, 4.80710730e+07,\n",
              "       2.84556017e+06, 9.16706703e+06, 1.61645149e+07, 1.05000768e+06,\n",
              "       8.05560312e+07])"
            ]
          },
          "metadata": {},
          "execution_count": 152
        }
      ]
    },
    {
      "cell_type": "code",
      "source": [
        "#Calculating Residual Sum Squares\n",
        "rss= error.sum()\n",
        "rss"
      ],
      "metadata": {
        "colab": {
          "base_uri": "https://localhost:8080/"
        },
        "id": "IYxKSpENVbJW",
        "outputId": "593ada63-d743-483e-af2a-0dac699baf36"
      },
      "execution_count": null,
      "outputs": [
        {
          "output_type": "execute_result",
          "data": {
            "text/plain": [
              "316457224.73637646"
            ]
          },
          "metadata": {},
          "execution_count": 154
        }
      ]
    },
    {
      "cell_type": "code",
      "source": [
        "# Residual Sum Error\n",
        "rse= np.sqrt(rss/ (len(x)-2))\n",
        "rse"
      ],
      "metadata": {
        "colab": {
          "base_uri": "https://localhost:8080/"
        },
        "id": "43XPKeLoWCNd",
        "outputId": "513862ff-9c9a-43a0-e628-82a08cce3c34"
      },
      "execution_count": null,
      "outputs": [
        {
          "output_type": "execute_result",
          "data": {
            "text/plain": [
              "3361.8512371288643"
            ]
          },
          "metadata": {},
          "execution_count": 155
        }
      ]
    }
  ]
}