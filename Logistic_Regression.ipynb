{
  "nbformat": 4,
  "nbformat_minor": 0,
  "metadata": {
    "colab": {
      "name": "Logistic Regression",
      "provenance": []
    },
    "kernelspec": {
      "name": "python3",
      "display_name": "Python 3"
    },
    "language_info": {
      "name": "python"
    }
  },
  "cells": [
    {
      "cell_type": "markdown",
      "source": [
        "**Logistic Regression 3 class problem - Iris Dataset**"
      ],
      "metadata": {
        "id": "c9zvXBe6E2r-"
      }
    },
    {
      "cell_type": "markdown",
      "source": [
        "Importing Dependencies"
      ],
      "metadata": {
        "id": "JGUjb2q9FBD9"
      }
    },
    {
      "cell_type": "code",
      "execution_count": 9,
      "metadata": {
        "id": "l-oSZPynE0jN"
      },
      "outputs": [],
      "source": [
        "from matplotlib import pyplot as plt\n",
        "from sklearn.linear_model import LogisticRegression\n",
        "from sklearn.model_selection import train_test_split\n",
        "from sklearn import metrics\n",
        "from sklearn import datasets\n",
        "import pandas as pd\n",
        "import numpy as np\n",
        "from sklearn.preprocessing import StandardScaler"
      ]
    },
    {
      "cell_type": "markdown",
      "source": [
        "### Import Dataset"
      ],
      "metadata": {
        "id": "6UPiMqZEFMx8"
      }
    },
    {
      "cell_type": "code",
      "source": [
        "data = datasets.load_iris()"
      ],
      "metadata": {
        "id": "Uj1DO93pFK0X"
      },
      "execution_count": 2,
      "outputs": []
    },
    {
      "cell_type": "code",
      "source": [
        "print(data.keys())"
      ],
      "metadata": {
        "colab": {
          "base_uri": "https://localhost:8080/"
        },
        "id": "80O6F7EUFbVl",
        "outputId": "b38e2c00-caf4-4c76-9b7b-55071c36ac26"
      },
      "execution_count": 3,
      "outputs": [
        {
          "output_type": "stream",
          "name": "stdout",
          "text": [
            "dict_keys(['data', 'target', 'frame', 'target_names', 'DESCR', 'feature_names', 'filename', 'data_module'])\n"
          ]
        }
      ]
    },
    {
      "cell_type": "code",
      "source": [
        "data['target_names']"
      ],
      "metadata": {
        "colab": {
          "base_uri": "https://localhost:8080/"
        },
        "id": "g4-sdSKrGo6O",
        "outputId": "5268b5de-f1e6-4bc1-abac-aed4c733853c"
      },
      "execution_count": 13,
      "outputs": [
        {
          "output_type": "execute_result",
          "data": {
            "text/plain": [
              "array(['setosa', 'versicolor', 'virginica'], dtype='<U10')"
            ]
          },
          "metadata": {},
          "execution_count": 13
        }
      ]
    },
    {
      "cell_type": "code",
      "source": [
        "data['feature_names']"
      ],
      "metadata": {
        "colab": {
          "base_uri": "https://localhost:8080/"
        },
        "id": "6vrMjD5zFcnZ",
        "outputId": "db72055d-b831-413a-9af8-b4952861cbce"
      },
      "execution_count": 4,
      "outputs": [
        {
          "output_type": "execute_result",
          "data": {
            "text/plain": [
              "['sepal length (cm)',\n",
              " 'sepal width (cm)',\n",
              " 'petal length (cm)',\n",
              " 'petal width (cm)']"
            ]
          },
          "metadata": {},
          "execution_count": 4
        }
      ]
    },
    {
      "cell_type": "markdown",
      "source": [
        "### Splitting into train and test Dataset\n"
      ],
      "metadata": {
        "id": "kJ9osLQpFgBH"
      }
    },
    {
      "cell_type": "code",
      "source": [
        "x = pd.DataFrame(data.data, columns= data.feature_names)\n",
        "y = data['target']\n",
        "\n",
        "x_train, x_test, y_train, y_test = train_test_split(x,y, test_size=0.3)"
      ],
      "metadata": {
        "id": "O7KSG6axFeSJ"
      },
      "execution_count": 5,
      "outputs": []
    },
    {
      "cell_type": "code",
      "source": [
        "y_train"
      ],
      "metadata": {
        "colab": {
          "base_uri": "https://localhost:8080/"
        },
        "id": "kQjU2XNmKCuv",
        "outputId": "2dfe45be-738c-432e-ce1c-0e14573c00d2"
      },
      "execution_count": 16,
      "outputs": [
        {
          "output_type": "execute_result",
          "data": {
            "text/plain": [
              "array([1, 2, 2, 2, 2, 2, 2, 1, 0, 2, 1, 0, 2, 2, 1, 2, 1, 0, 0, 2, 2, 2,\n",
              "       0, 0, 1, 2, 0, 1, 1, 2, 2, 1, 0, 1, 1, 0, 0, 1, 1, 0, 1, 0, 2, 1,\n",
              "       1, 1, 1, 0, 0, 2, 0, 1, 1, 1, 2, 1, 1, 2, 1, 2, 2, 2, 1, 0, 0, 0,\n",
              "       0, 0, 0, 2, 1, 2, 1, 1, 1, 2, 1, 0, 2, 2, 0, 2, 0, 2, 0, 1, 0, 1,\n",
              "       0, 0, 1, 0, 0, 2, 2, 2, 2, 1, 2, 2, 0, 1, 1, 2, 0])"
            ]
          },
          "metadata": {},
          "execution_count": 16
        }
      ]
    },
    {
      "cell_type": "code",
      "source": [
        "x_train.shape"
      ],
      "metadata": {
        "colab": {
          "base_uri": "https://localhost:8080/"
        },
        "id": "lEdvYeEBFlsX",
        "outputId": "185ac28e-d3db-429c-d62e-9db4cdbad6d5"
      },
      "execution_count": 6,
      "outputs": [
        {
          "output_type": "execute_result",
          "data": {
            "text/plain": [
              "(105, 4)"
            ]
          },
          "metadata": {},
          "execution_count": 6
        }
      ]
    },
    {
      "cell_type": "code",
      "source": [
        "x_test.shape"
      ],
      "metadata": {
        "colab": {
          "base_uri": "https://localhost:8080/"
        },
        "id": "Y3741p2SFnU5",
        "outputId": "9d7cdcee-a5c8-4ba4-ce40-665f9df8b33b"
      },
      "execution_count": 7,
      "outputs": [
        {
          "output_type": "execute_result",
          "data": {
            "text/plain": [
              "(45, 4)"
            ]
          },
          "metadata": {},
          "execution_count": 7
        }
      ]
    },
    {
      "cell_type": "markdown",
      "source": [
        "### Feature Scaling"
      ],
      "metadata": {
        "id": "2JKBZxWQFshE"
      }
    },
    {
      "cell_type": "code",
      "source": [
        "sc= StandardScaler()\n",
        "x_train= sc.fit_transform(x_train)\n",
        "x_test= sc.fit_transform(x_test)"
      ],
      "metadata": {
        "id": "e38zY9wdFo4p"
      },
      "execution_count": 8,
      "outputs": []
    },
    {
      "cell_type": "markdown",
      "source": [
        "### Implementing Logistic Regression from scratch\n"
      ],
      "metadata": {
        "id": "dP6hyz3vFvhi"
      }
    },
    {
      "cell_type": "code",
      "source": [
        "class Logistic_Regression:\n",
        "  def __init__(self,learning_rate=0.1, num_of_iterations=10000):\n",
        "    self.learning_rate= learning_rate\n",
        "    self.num_of_iterations= num_of_iterations\n",
        "  \n",
        "  def train(self, X,y):\n",
        "    #m= number of validation samples, n= number of features\n",
        "    self.m, self.n= X.shape\n",
        "\n",
        "    # initialising weight and bias values\n",
        "    self.weights= np.zeros(self.n)\n",
        "    self.bias= 0\n",
        "\n",
        "    #array to store training cost\n",
        "    self.training_cost=[]\n",
        "\n",
        "    for _ in range(self.num_of_iterations):\n",
        "      # calculating hypothesis for each record for training data\n",
        "      y_hat= 1/ (1+np.exp (-(X.dot(self.weights)+self.bias)))\n",
        "\n",
        "      #calculating training cost\n",
        "      # training_cost= (-1 / self.m) * np.sum(y * np.log(y_hat)+ (1 - y) * np.log(1 - y_hat))\n",
        "      # self.training_cost.append(training_cost)\n",
        "\n",
        "      #calculating derivatives\n",
        "      dw = (1/ self.m) * np.dot(X.T, (y_hat - y))\n",
        "      db= (1/self.m)* np.sum(y_hat - y)\n",
        "\n",
        "      # updating the values of weights and beta using gradient descent\n",
        "      self.weights -= self.learning_rate*dw\n",
        "      self.bias -= self.learning_rate* db\n",
        "\n",
        "  def predict(self, X, threshold=0.5):\n",
        "    y_pred= 1/ (1+np.exp(-(X.dot(self.weights)+self.bias)))\n",
        "    # y_pred= np.where(y_pred>threshold, 1,0)\n",
        "\n",
        "    return y_pred"
      ],
      "metadata": {
        "id": "GOAbRQu1FqjA"
      },
      "execution_count": 102,
      "outputs": []
    },
    {
      "cell_type": "markdown",
      "source": [
        "### Model for Setosa"
      ],
      "metadata": {
        "id": "64igUbYmGjft"
      }
    },
    {
      "cell_type": "code",
      "source": [
        "setosa_model = Logistic_Regression()"
      ],
      "metadata": {
        "id": "8kOuxfqNGTks"
      },
      "execution_count": 103,
      "outputs": []
    },
    {
      "cell_type": "code",
      "source": [
        "#fitting into model\n",
        "#changing label for setosa =1 \n",
        "y_train_setosa= np.where(y_train == 0, 1,0)\n",
        "\n",
        "setosa_model.train(x_train, y_train_setosa)\n",
        "setosa_pred= setosa_model.predict(x_test, y_test)"
      ],
      "metadata": {
        "id": "072vLx6GHjQC"
      },
      "execution_count": 104,
      "outputs": []
    },
    {
      "cell_type": "code",
      "source": [
        "setosa_pred"
      ],
      "metadata": {
        "colab": {
          "base_uri": "https://localhost:8080/"
        },
        "id": "i4F91JKZN7FM",
        "outputId": "d16523c6-f7fd-4f60-8539-60966c36800f"
      },
      "execution_count": 105,
      "outputs": [
        {
          "output_type": "execute_result",
          "data": {
            "text/plain": [
              "array([9.99038911e-01, 2.17543884e-06, 3.13665465e-03, 9.99968296e-01,\n",
              "       9.99395336e-01, 9.98141033e-01, 1.28226782e-05, 3.29322821e-04,\n",
              "       1.14669214e-06, 3.10783173e-04, 7.45110716e-04, 4.17265163e-04,\n",
              "       4.02868783e-04, 4.29146817e-04, 1.10762952e-06, 4.12082943e-05,\n",
              "       2.35197329e-07, 9.99410032e-01, 9.99967947e-01, 4.85042480e-04,\n",
              "       9.97722922e-01, 7.43506385e-06, 1.96159859e-04, 2.07332481e-07,\n",
              "       9.99656643e-01, 9.78389215e-01, 9.87100306e-01, 9.75209031e-01,\n",
              "       3.40484402e-04, 9.91064052e-01, 9.98226213e-01, 4.90246087e-06,\n",
              "       9.96312087e-01, 9.79843343e-01, 4.33155346e-06, 4.96588874e-01,\n",
              "       2.15755175e-06, 5.30967170e-04, 1.97544697e-04, 3.30059806e-08,\n",
              "       9.97941928e-01, 7.64214802e-07, 9.98716656e-01, 1.51045951e-04,\n",
              "       2.74963402e-04])"
            ]
          },
          "metadata": {},
          "execution_count": 105
        }
      ]
    },
    {
      "cell_type": "markdown",
      "source": [
        "### Model for Versicolor"
      ],
      "metadata": {
        "id": "dJrkWaxmPnnJ"
      }
    },
    {
      "cell_type": "code",
      "source": [
        "versi_model= Logistic_Regression()"
      ],
      "metadata": {
        "id": "qX5z4sp4PiMU"
      },
      "execution_count": 106,
      "outputs": []
    },
    {
      "cell_type": "code",
      "source": [
        "#fitting into model\n",
        "#changing label for versicolor=1 \n",
        "y_train_versi= np.where(y_train == 1, 1,0)\n",
        "\n",
        "versi_model.train(x_train, y_train_versi)\n",
        "versi_pred= versi_model.predict(x_test, y_test)"
      ],
      "metadata": {
        "id": "fsutBYDHP-Hi"
      },
      "execution_count": 107,
      "outputs": []
    },
    {
      "cell_type": "code",
      "source": [
        "versi_pred"
      ],
      "metadata": {
        "colab": {
          "base_uri": "https://localhost:8080/"
        },
        "id": "tWm0o-_AQQFS",
        "outputId": "17f90d67-5a7a-4837-a517-512efe9ae725"
      },
      "execution_count": 108,
      "outputs": [
        {
          "output_type": "execute_result",
          "data": {
            "text/plain": [
              "array([0.04554229, 0.1927097 , 0.30780601, 0.0084595 , 0.07758821,\n",
              "       0.1005764 , 0.14676606, 0.65728065, 0.62065374, 0.76549187,\n",
              "       0.23996325, 0.5401262 , 0.51343471, 0.38368585, 0.39370274,\n",
              "       0.05572698, 0.78109107, 0.0849616 , 0.01879372, 0.50532246,\n",
              "       0.18015427, 0.41596417, 0.47066112, 0.66698534, 0.04461671,\n",
              "       0.14452236, 0.30071429, 0.30717132, 0.50513993, 0.33866657,\n",
              "       0.1285371 , 0.58668032, 0.20425751, 0.35765975, 0.05122483,\n",
              "       0.75581077, 0.17945427, 0.78728638, 0.65121676, 0.72585963,\n",
              "       0.13558174, 0.35287378, 0.11751459, 0.56808651, 0.66547846])"
            ]
          },
          "metadata": {},
          "execution_count": 108
        }
      ]
    },
    {
      "cell_type": "markdown",
      "source": [
        "### Model for Virginica"
      ],
      "metadata": {
        "id": "1m4wnkXXQaPW"
      }
    },
    {
      "cell_type": "code",
      "source": [
        "verginica_model= Logistic_Regression()"
      ],
      "metadata": {
        "id": "UJ4h_WXMQZuP"
      },
      "execution_count": 109,
      "outputs": []
    },
    {
      "cell_type": "code",
      "source": [
        "#fitting into model\n",
        "#changing label for virginca=1 \n",
        "y_train_verginica= np.where(y_train == 2, 1,0)\n",
        "\n",
        "verginica_model.train(x_train, y_train_verginica)\n",
        "verginica_pred= verginica_model.predict(x_test, y_test)"
      ],
      "metadata": {
        "id": "no6xX8sUQSP6"
      },
      "execution_count": 110,
      "outputs": []
    },
    {
      "cell_type": "code",
      "source": [
        "verginica_pred"
      ],
      "metadata": {
        "colab": {
          "base_uri": "https://localhost:8080/"
        },
        "id": "YFlvAcOQQsze",
        "outputId": "d4701488-bb5e-4692-a954-096d3b8bb9e7"
      },
      "execution_count": 111,
      "outputs": [
        {
          "output_type": "execute_result",
          "data": {
            "text/plain": [
              "array([1.66630644e-09, 9.99464183e-01, 3.20608421e-02, 3.82101480e-11,\n",
              "       6.91722855e-11, 2.55330678e-10, 9.98892774e-01, 1.94674269e-02,\n",
              "       9.94448860e-01, 1.04146122e-02, 1.26739688e-01, 9.04851265e-02,\n",
              "       1.61300504e-01, 1.80832954e-01, 9.99707652e-01, 9.99652162e-01,\n",
              "       9.98571640e-01, 9.66567191e-11, 1.04527297e-11, 1.82106843e-02,\n",
              "       4.41697347e-10, 9.96883800e-01, 2.87027328e-01, 9.98776080e-01,\n",
              "       1.71655503e-10, 6.83918571e-09, 5.53033127e-10, 1.37527985e-09,\n",
              "       2.61045164e-02, 2.32297493e-10, 1.31768225e-10, 9.44808732e-01,\n",
              "       4.69197626e-10, 4.99460501e-10, 9.99962979e-01, 8.58572142e-09,\n",
              "       9.99947547e-01, 3.10124893e-03, 8.58008368e-02, 9.99903283e-01,\n",
              "       4.21760124e-11, 9.99877181e-01, 1.07249771e-10, 5.43689919e-02,\n",
              "       1.11310701e-01])"
            ]
          },
          "metadata": {},
          "execution_count": 111
        }
      ]
    },
    {
      "cell_type": "markdown",
      "source": [
        "### Assigning Class on the basis of probability"
      ],
      "metadata": {
        "id": "N2CBVk6-Q1ba"
      }
    },
    {
      "cell_type": "code",
      "source": [
        "probabilities= pd.DataFrame({ 0:setosa_pred , 1: versi_pred , 2:verginica_pred  })\n",
        "probabilities"
      ],
      "metadata": {
        "colab": {
          "base_uri": "https://localhost:8080/",
          "height": 1000
        },
        "id": "ZqYXl1SGQ0sY",
        "outputId": "84779de9-a636-442d-923f-bf474a7ae3ed"
      },
      "execution_count": 112,
      "outputs": [
        {
          "output_type": "execute_result",
          "data": {
            "text/html": [
              "\n",
              "  <div id=\"df-6f3688c0-498d-4e1a-af99-027aac42d1d7\">\n",
              "    <div class=\"colab-df-container\">\n",
              "      <div>\n",
              "<style scoped>\n",
              "    .dataframe tbody tr th:only-of-type {\n",
              "        vertical-align: middle;\n",
              "    }\n",
              "\n",
              "    .dataframe tbody tr th {\n",
              "        vertical-align: top;\n",
              "    }\n",
              "\n",
              "    .dataframe thead th {\n",
              "        text-align: right;\n",
              "    }\n",
              "</style>\n",
              "<table border=\"1\" class=\"dataframe\">\n",
              "  <thead>\n",
              "    <tr style=\"text-align: right;\">\n",
              "      <th></th>\n",
              "      <th>0</th>\n",
              "      <th>1</th>\n",
              "      <th>2</th>\n",
              "    </tr>\n",
              "  </thead>\n",
              "  <tbody>\n",
              "    <tr>\n",
              "      <th>0</th>\n",
              "      <td>9.990389e-01</td>\n",
              "      <td>0.045542</td>\n",
              "      <td>1.666306e-09</td>\n",
              "    </tr>\n",
              "    <tr>\n",
              "      <th>1</th>\n",
              "      <td>2.175439e-06</td>\n",
              "      <td>0.192710</td>\n",
              "      <td>9.994642e-01</td>\n",
              "    </tr>\n",
              "    <tr>\n",
              "      <th>2</th>\n",
              "      <td>3.136655e-03</td>\n",
              "      <td>0.307806</td>\n",
              "      <td>3.206084e-02</td>\n",
              "    </tr>\n",
              "    <tr>\n",
              "      <th>3</th>\n",
              "      <td>9.999683e-01</td>\n",
              "      <td>0.008459</td>\n",
              "      <td>3.821015e-11</td>\n",
              "    </tr>\n",
              "    <tr>\n",
              "      <th>4</th>\n",
              "      <td>9.993953e-01</td>\n",
              "      <td>0.077588</td>\n",
              "      <td>6.917229e-11</td>\n",
              "    </tr>\n",
              "    <tr>\n",
              "      <th>5</th>\n",
              "      <td>9.981410e-01</td>\n",
              "      <td>0.100576</td>\n",
              "      <td>2.553307e-10</td>\n",
              "    </tr>\n",
              "    <tr>\n",
              "      <th>6</th>\n",
              "      <td>1.282268e-05</td>\n",
              "      <td>0.146766</td>\n",
              "      <td>9.988928e-01</td>\n",
              "    </tr>\n",
              "    <tr>\n",
              "      <th>7</th>\n",
              "      <td>3.293228e-04</td>\n",
              "      <td>0.657281</td>\n",
              "      <td>1.946743e-02</td>\n",
              "    </tr>\n",
              "    <tr>\n",
              "      <th>8</th>\n",
              "      <td>1.146692e-06</td>\n",
              "      <td>0.620654</td>\n",
              "      <td>9.944489e-01</td>\n",
              "    </tr>\n",
              "    <tr>\n",
              "      <th>9</th>\n",
              "      <td>3.107832e-04</td>\n",
              "      <td>0.765492</td>\n",
              "      <td>1.041461e-02</td>\n",
              "    </tr>\n",
              "    <tr>\n",
              "      <th>10</th>\n",
              "      <td>7.451107e-04</td>\n",
              "      <td>0.239963</td>\n",
              "      <td>1.267397e-01</td>\n",
              "    </tr>\n",
              "    <tr>\n",
              "      <th>11</th>\n",
              "      <td>4.172652e-04</td>\n",
              "      <td>0.540126</td>\n",
              "      <td>9.048513e-02</td>\n",
              "    </tr>\n",
              "    <tr>\n",
              "      <th>12</th>\n",
              "      <td>4.028688e-04</td>\n",
              "      <td>0.513435</td>\n",
              "      <td>1.613005e-01</td>\n",
              "    </tr>\n",
              "    <tr>\n",
              "      <th>13</th>\n",
              "      <td>4.291468e-04</td>\n",
              "      <td>0.383686</td>\n",
              "      <td>1.808330e-01</td>\n",
              "    </tr>\n",
              "    <tr>\n",
              "      <th>14</th>\n",
              "      <td>1.107630e-06</td>\n",
              "      <td>0.393703</td>\n",
              "      <td>9.997077e-01</td>\n",
              "    </tr>\n",
              "    <tr>\n",
              "      <th>15</th>\n",
              "      <td>4.120829e-05</td>\n",
              "      <td>0.055727</td>\n",
              "      <td>9.996522e-01</td>\n",
              "    </tr>\n",
              "    <tr>\n",
              "      <th>16</th>\n",
              "      <td>2.351973e-07</td>\n",
              "      <td>0.781091</td>\n",
              "      <td>9.985716e-01</td>\n",
              "    </tr>\n",
              "    <tr>\n",
              "      <th>17</th>\n",
              "      <td>9.994100e-01</td>\n",
              "      <td>0.084962</td>\n",
              "      <td>9.665672e-11</td>\n",
              "    </tr>\n",
              "    <tr>\n",
              "      <th>18</th>\n",
              "      <td>9.999679e-01</td>\n",
              "      <td>0.018794</td>\n",
              "      <td>1.045273e-11</td>\n",
              "    </tr>\n",
              "    <tr>\n",
              "      <th>19</th>\n",
              "      <td>4.850425e-04</td>\n",
              "      <td>0.505322</td>\n",
              "      <td>1.821068e-02</td>\n",
              "    </tr>\n",
              "    <tr>\n",
              "      <th>20</th>\n",
              "      <td>9.977229e-01</td>\n",
              "      <td>0.180154</td>\n",
              "      <td>4.416973e-10</td>\n",
              "    </tr>\n",
              "    <tr>\n",
              "      <th>21</th>\n",
              "      <td>7.435064e-06</td>\n",
              "      <td>0.415964</td>\n",
              "      <td>9.968838e-01</td>\n",
              "    </tr>\n",
              "    <tr>\n",
              "      <th>22</th>\n",
              "      <td>1.961599e-04</td>\n",
              "      <td>0.470661</td>\n",
              "      <td>2.870273e-01</td>\n",
              "    </tr>\n",
              "    <tr>\n",
              "      <th>23</th>\n",
              "      <td>2.073325e-07</td>\n",
              "      <td>0.666985</td>\n",
              "      <td>9.987761e-01</td>\n",
              "    </tr>\n",
              "    <tr>\n",
              "      <th>24</th>\n",
              "      <td>9.996566e-01</td>\n",
              "      <td>0.044617</td>\n",
              "      <td>1.716555e-10</td>\n",
              "    </tr>\n",
              "    <tr>\n",
              "      <th>25</th>\n",
              "      <td>9.783892e-01</td>\n",
              "      <td>0.144522</td>\n",
              "      <td>6.839186e-09</td>\n",
              "    </tr>\n",
              "    <tr>\n",
              "      <th>26</th>\n",
              "      <td>9.871003e-01</td>\n",
              "      <td>0.300714</td>\n",
              "      <td>5.530331e-10</td>\n",
              "    </tr>\n",
              "    <tr>\n",
              "      <th>27</th>\n",
              "      <td>9.752090e-01</td>\n",
              "      <td>0.307171</td>\n",
              "      <td>1.375280e-09</td>\n",
              "    </tr>\n",
              "    <tr>\n",
              "      <th>28</th>\n",
              "      <td>3.404844e-04</td>\n",
              "      <td>0.505140</td>\n",
              "      <td>2.610452e-02</td>\n",
              "    </tr>\n",
              "    <tr>\n",
              "      <th>29</th>\n",
              "      <td>9.910641e-01</td>\n",
              "      <td>0.338667</td>\n",
              "      <td>2.322975e-10</td>\n",
              "    </tr>\n",
              "    <tr>\n",
              "      <th>30</th>\n",
              "      <td>9.982262e-01</td>\n",
              "      <td>0.128537</td>\n",
              "      <td>1.317682e-10</td>\n",
              "    </tr>\n",
              "    <tr>\n",
              "      <th>31</th>\n",
              "      <td>4.902461e-06</td>\n",
              "      <td>0.586680</td>\n",
              "      <td>9.448087e-01</td>\n",
              "    </tr>\n",
              "    <tr>\n",
              "      <th>32</th>\n",
              "      <td>9.963121e-01</td>\n",
              "      <td>0.204258</td>\n",
              "      <td>4.691976e-10</td>\n",
              "    </tr>\n",
              "    <tr>\n",
              "      <th>33</th>\n",
              "      <td>9.798433e-01</td>\n",
              "      <td>0.357660</td>\n",
              "      <td>4.994605e-10</td>\n",
              "    </tr>\n",
              "    <tr>\n",
              "      <th>34</th>\n",
              "      <td>4.331553e-06</td>\n",
              "      <td>0.051225</td>\n",
              "      <td>9.999630e-01</td>\n",
              "    </tr>\n",
              "    <tr>\n",
              "      <th>35</th>\n",
              "      <td>4.965889e-01</td>\n",
              "      <td>0.755811</td>\n",
              "      <td>8.585721e-09</td>\n",
              "    </tr>\n",
              "    <tr>\n",
              "      <th>36</th>\n",
              "      <td>2.157552e-06</td>\n",
              "      <td>0.179454</td>\n",
              "      <td>9.999475e-01</td>\n",
              "    </tr>\n",
              "    <tr>\n",
              "      <th>37</th>\n",
              "      <td>5.309672e-04</td>\n",
              "      <td>0.787286</td>\n",
              "      <td>3.101249e-03</td>\n",
              "    </tr>\n",
              "    <tr>\n",
              "      <th>38</th>\n",
              "      <td>1.975447e-04</td>\n",
              "      <td>0.651217</td>\n",
              "      <td>8.580084e-02</td>\n",
              "    </tr>\n",
              "    <tr>\n",
              "      <th>39</th>\n",
              "      <td>3.300598e-08</td>\n",
              "      <td>0.725860</td>\n",
              "      <td>9.999033e-01</td>\n",
              "    </tr>\n",
              "    <tr>\n",
              "      <th>40</th>\n",
              "      <td>9.979419e-01</td>\n",
              "      <td>0.135582</td>\n",
              "      <td>4.217601e-11</td>\n",
              "    </tr>\n",
              "    <tr>\n",
              "      <th>41</th>\n",
              "      <td>7.642148e-07</td>\n",
              "      <td>0.352874</td>\n",
              "      <td>9.998772e-01</td>\n",
              "    </tr>\n",
              "    <tr>\n",
              "      <th>42</th>\n",
              "      <td>9.987167e-01</td>\n",
              "      <td>0.117515</td>\n",
              "      <td>1.072498e-10</td>\n",
              "    </tr>\n",
              "    <tr>\n",
              "      <th>43</th>\n",
              "      <td>1.510460e-04</td>\n",
              "      <td>0.568087</td>\n",
              "      <td>5.436899e-02</td>\n",
              "    </tr>\n",
              "    <tr>\n",
              "      <th>44</th>\n",
              "      <td>2.749634e-04</td>\n",
              "      <td>0.665478</td>\n",
              "      <td>1.113107e-01</td>\n",
              "    </tr>\n",
              "  </tbody>\n",
              "</table>\n",
              "</div>\n",
              "      <button class=\"colab-df-convert\" onclick=\"convertToInteractive('df-6f3688c0-498d-4e1a-af99-027aac42d1d7')\"\n",
              "              title=\"Convert this dataframe to an interactive table.\"\n",
              "              style=\"display:none;\">\n",
              "        \n",
              "  <svg xmlns=\"http://www.w3.org/2000/svg\" height=\"24px\"viewBox=\"0 0 24 24\"\n",
              "       width=\"24px\">\n",
              "    <path d=\"M0 0h24v24H0V0z\" fill=\"none\"/>\n",
              "    <path d=\"M18.56 5.44l.94 2.06.94-2.06 2.06-.94-2.06-.94-.94-2.06-.94 2.06-2.06.94zm-11 1L8.5 8.5l.94-2.06 2.06-.94-2.06-.94L8.5 2.5l-.94 2.06-2.06.94zm10 10l.94 2.06.94-2.06 2.06-.94-2.06-.94-.94-2.06-.94 2.06-2.06.94z\"/><path d=\"M17.41 7.96l-1.37-1.37c-.4-.4-.92-.59-1.43-.59-.52 0-1.04.2-1.43.59L10.3 9.45l-7.72 7.72c-.78.78-.78 2.05 0 2.83L4 21.41c.39.39.9.59 1.41.59.51 0 1.02-.2 1.41-.59l7.78-7.78 2.81-2.81c.8-.78.8-2.07 0-2.86zM5.41 20L4 18.59l7.72-7.72 1.47 1.35L5.41 20z\"/>\n",
              "  </svg>\n",
              "      </button>\n",
              "      \n",
              "  <style>\n",
              "    .colab-df-container {\n",
              "      display:flex;\n",
              "      flex-wrap:wrap;\n",
              "      gap: 12px;\n",
              "    }\n",
              "\n",
              "    .colab-df-convert {\n",
              "      background-color: #E8F0FE;\n",
              "      border: none;\n",
              "      border-radius: 50%;\n",
              "      cursor: pointer;\n",
              "      display: none;\n",
              "      fill: #1967D2;\n",
              "      height: 32px;\n",
              "      padding: 0 0 0 0;\n",
              "      width: 32px;\n",
              "    }\n",
              "\n",
              "    .colab-df-convert:hover {\n",
              "      background-color: #E2EBFA;\n",
              "      box-shadow: 0px 1px 2px rgba(60, 64, 67, 0.3), 0px 1px 3px 1px rgba(60, 64, 67, 0.15);\n",
              "      fill: #174EA6;\n",
              "    }\n",
              "\n",
              "    [theme=dark] .colab-df-convert {\n",
              "      background-color: #3B4455;\n",
              "      fill: #D2E3FC;\n",
              "    }\n",
              "\n",
              "    [theme=dark] .colab-df-convert:hover {\n",
              "      background-color: #434B5C;\n",
              "      box-shadow: 0px 1px 3px 1px rgba(0, 0, 0, 0.15);\n",
              "      filter: drop-shadow(0px 1px 2px rgba(0, 0, 0, 0.3));\n",
              "      fill: #FFFFFF;\n",
              "    }\n",
              "  </style>\n",
              "\n",
              "      <script>\n",
              "        const buttonEl =\n",
              "          document.querySelector('#df-6f3688c0-498d-4e1a-af99-027aac42d1d7 button.colab-df-convert');\n",
              "        buttonEl.style.display =\n",
              "          google.colab.kernel.accessAllowed ? 'block' : 'none';\n",
              "\n",
              "        async function convertToInteractive(key) {\n",
              "          const element = document.querySelector('#df-6f3688c0-498d-4e1a-af99-027aac42d1d7');\n",
              "          const dataTable =\n",
              "            await google.colab.kernel.invokeFunction('convertToInteractive',\n",
              "                                                     [key], {});\n",
              "          if (!dataTable) return;\n",
              "\n",
              "          const docLinkHtml = 'Like what you see? Visit the ' +\n",
              "            '<a target=\"_blank\" href=https://colab.research.google.com/notebooks/data_table.ipynb>data table notebook</a>'\n",
              "            + ' to learn more about interactive tables.';\n",
              "          element.innerHTML = '';\n",
              "          dataTable['output_type'] = 'display_data';\n",
              "          await google.colab.output.renderOutput(dataTable, element);\n",
              "          const docLink = document.createElement('div');\n",
              "          docLink.innerHTML = docLinkHtml;\n",
              "          element.appendChild(docLink);\n",
              "        }\n",
              "      </script>\n",
              "    </div>\n",
              "  </div>\n",
              "  "
            ],
            "text/plain": [
              "               0         1             2\n",
              "0   9.990389e-01  0.045542  1.666306e-09\n",
              "1   2.175439e-06  0.192710  9.994642e-01\n",
              "2   3.136655e-03  0.307806  3.206084e-02\n",
              "3   9.999683e-01  0.008459  3.821015e-11\n",
              "4   9.993953e-01  0.077588  6.917229e-11\n",
              "5   9.981410e-01  0.100576  2.553307e-10\n",
              "6   1.282268e-05  0.146766  9.988928e-01\n",
              "7   3.293228e-04  0.657281  1.946743e-02\n",
              "8   1.146692e-06  0.620654  9.944489e-01\n",
              "9   3.107832e-04  0.765492  1.041461e-02\n",
              "10  7.451107e-04  0.239963  1.267397e-01\n",
              "11  4.172652e-04  0.540126  9.048513e-02\n",
              "12  4.028688e-04  0.513435  1.613005e-01\n",
              "13  4.291468e-04  0.383686  1.808330e-01\n",
              "14  1.107630e-06  0.393703  9.997077e-01\n",
              "15  4.120829e-05  0.055727  9.996522e-01\n",
              "16  2.351973e-07  0.781091  9.985716e-01\n",
              "17  9.994100e-01  0.084962  9.665672e-11\n",
              "18  9.999679e-01  0.018794  1.045273e-11\n",
              "19  4.850425e-04  0.505322  1.821068e-02\n",
              "20  9.977229e-01  0.180154  4.416973e-10\n",
              "21  7.435064e-06  0.415964  9.968838e-01\n",
              "22  1.961599e-04  0.470661  2.870273e-01\n",
              "23  2.073325e-07  0.666985  9.987761e-01\n",
              "24  9.996566e-01  0.044617  1.716555e-10\n",
              "25  9.783892e-01  0.144522  6.839186e-09\n",
              "26  9.871003e-01  0.300714  5.530331e-10\n",
              "27  9.752090e-01  0.307171  1.375280e-09\n",
              "28  3.404844e-04  0.505140  2.610452e-02\n",
              "29  9.910641e-01  0.338667  2.322975e-10\n",
              "30  9.982262e-01  0.128537  1.317682e-10\n",
              "31  4.902461e-06  0.586680  9.448087e-01\n",
              "32  9.963121e-01  0.204258  4.691976e-10\n",
              "33  9.798433e-01  0.357660  4.994605e-10\n",
              "34  4.331553e-06  0.051225  9.999630e-01\n",
              "35  4.965889e-01  0.755811  8.585721e-09\n",
              "36  2.157552e-06  0.179454  9.999475e-01\n",
              "37  5.309672e-04  0.787286  3.101249e-03\n",
              "38  1.975447e-04  0.651217  8.580084e-02\n",
              "39  3.300598e-08  0.725860  9.999033e-01\n",
              "40  9.979419e-01  0.135582  4.217601e-11\n",
              "41  7.642148e-07  0.352874  9.998772e-01\n",
              "42  9.987167e-01  0.117515  1.072498e-10\n",
              "43  1.510460e-04  0.568087  5.436899e-02\n",
              "44  2.749634e-04  0.665478  1.113107e-01"
            ]
          },
          "metadata": {},
          "execution_count": 112
        }
      ]
    },
    {
      "cell_type": "code",
      "source": [
        "classAssigned= probabilities.idxmax(axis=1)"
      ],
      "metadata": {
        "id": "LGFUPd8pQu7V"
      },
      "execution_count": 113,
      "outputs": []
    },
    {
      "cell_type": "code",
      "source": [
        "classAssigned"
      ],
      "metadata": {
        "colab": {
          "base_uri": "https://localhost:8080/"
        },
        "id": "Vla8SxjQSGxu",
        "outputId": "a76dae2f-127f-4c54-8d8c-7810631213eb"
      },
      "execution_count": 114,
      "outputs": [
        {
          "output_type": "execute_result",
          "data": {
            "text/plain": [
              "0     0\n",
              "1     2\n",
              "2     1\n",
              "3     0\n",
              "4     0\n",
              "5     0\n",
              "6     2\n",
              "7     1\n",
              "8     2\n",
              "9     1\n",
              "10    1\n",
              "11    1\n",
              "12    1\n",
              "13    1\n",
              "14    2\n",
              "15    2\n",
              "16    2\n",
              "17    0\n",
              "18    0\n",
              "19    1\n",
              "20    0\n",
              "21    2\n",
              "22    1\n",
              "23    2\n",
              "24    0\n",
              "25    0\n",
              "26    0\n",
              "27    0\n",
              "28    1\n",
              "29    0\n",
              "30    0\n",
              "31    2\n",
              "32    0\n",
              "33    0\n",
              "34    2\n",
              "35    1\n",
              "36    2\n",
              "37    1\n",
              "38    1\n",
              "39    2\n",
              "40    0\n",
              "41    2\n",
              "42    0\n",
              "43    1\n",
              "44    1\n",
              "dtype: int64"
            ]
          },
          "metadata": {},
          "execution_count": 114
        }
      ]
    },
    {
      "cell_type": "markdown",
      "source": [
        "### Calculating Accuracy and Displaying Confusion Matrix"
      ],
      "metadata": {
        "id": "yn-Q_F4mZU54"
      }
    },
    {
      "cell_type": "code",
      "source": [
        "#Displaying Confusions Matrix\n",
        "cnf_matrix= metrics.confusion_matrix(y_test, classAssigned)\n",
        "disp = metrics.ConfusionMatrixDisplay(cnf_matrix)\n",
        "\n",
        "disp.plot()\n",
        "plt.show()"
      ],
      "metadata": {
        "colab": {
          "base_uri": "https://localhost:8080/",
          "height": 279
        },
        "id": "umBoHPe3Xej9",
        "outputId": "fccc5edd-bf75-4e71-c982-eee905c26ff9"
      },
      "execution_count": 115,
      "outputs": [
        {
          "output_type": "display_data",
          "data": {
            "image/png": "[encoded data removed]",
            "text/plain": [
              "<Figure size 432x288 with 2 Axes>"
            ]
          },
          "metadata": {
            "needs_background": "light"
          }
        }
      ]
    },
    {
      "cell_type": "code",
      "source": [
        "# Calculatig Accuracy\n",
        "def accuracy( actual , predicted, class_label):\n",
        "  ctr=0\n",
        "  unique, count= np.unique(actual, return_counts=True)\n",
        "  test_count= dict(zip(unique, count))\n",
        "\n",
        "  for i in range(len(actual)):\n",
        "    if actual[i]== class_label and predicted[i]== class_label:\n",
        "      ctr= ctr+1\n",
        "\n",
        "  return ( ctr/ test_count[class_label])"
      ],
      "metadata": {
        "id": "eaVMhYeEXsP9"
      },
      "execution_count": 118,
      "outputs": []
    },
    {
      "cell_type": "code",
      "source": [
        "print(f'Accuracy for class Setosa', accuracy(y_test, classAssigned , 0))"
      ],
      "metadata": {
        "colab": {
          "base_uri": "https://localhost:8080/"
        },
        "id": "BuucIFmWaasl",
        "outputId": "f6f05b0d-54a8-4d50-dafb-c2df01a93ec2"
      },
      "execution_count": 119,
      "outputs": [
        {
          "output_type": "stream",
          "name": "stdout",
          "text": [
            "Accuracy for class Setosa 0.9444444444444444\n"
          ]
        }
      ]
    },
    {
      "cell_type": "code",
      "source": [
        "print(f'Accuracy for class Versicolor', accuracy(y_test, classAssigned , 1))"
      ],
      "metadata": {
        "colab": {
          "base_uri": "https://localhost:8080/"
        },
        "id": "QOqg3quPafYu",
        "outputId": "eaa5e33e-ab2d-493a-a58a-668e9cc4c49f"
      },
      "execution_count": 121,
      "outputs": [
        {
          "output_type": "stream",
          "name": "stdout",
          "text": [
            "Accuracy for class Versicolor 1.0\n"
          ]
        }
      ]
    },
    {
      "cell_type": "code",
      "source": [
        "print(f'Accuracy for class Virginica', accuracy(y_test, classAssigned , 2))"
      ],
      "metadata": {
        "id": "UwDOfiv0clZX",
        "outputId": "2b6df93e-7a72-40f6-ffc4-b65eb51d5c5f",
        "colab": {
          "base_uri": "https://localhost:8080/"
        }
      },
      "execution_count": 123,
      "outputs": [
        {
          "output_type": "stream",
          "name": "stdout",
          "text": [
            "Accuracy for class Virginica 1.0\n"
          ]
        }
      ]
    }
  ]
}